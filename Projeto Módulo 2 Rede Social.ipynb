{
 "cells": [
  {
   "cell_type": "code",
   "execution_count": null,
   "id": "cd02bdb6",
   "metadata": {
    "ExecuteTime": {
     "end_time": "2021-09-29T23:04:20.376003Z",
     "start_time": "2021-09-29T23:04:20.366015Z"
    }
   },
   "outputs": [],
   "source": [
    "import csv"
   ]
  },
  {
   "cell_type": "code",
   "execution_count": null,
   "id": "44c2b0f6",
   "metadata": {
    "ExecuteTime": {
     "end_time": "2021-09-29T23:04:21.241604Z",
     "start_time": "2021-09-29T23:04:21.198629Z"
    }
   },
   "outputs": [],
   "source": [
    "class RedeSocial():\n",
    "    def __init__(self):\n",
    "        \"\"\"\n",
    "        Método inicializador da Rede Social. Cria um dicionário vazio atribuído à \n",
    "        matriz de adjacência, responsável por guardar as informações referentes aos\n",
    "        usuários da Rede Social.\n",
    "        \"\"\"\n",
    "        self.matriz_adjacencia = {}    \n",
    "\n",
    "\n",
    "    def adicionar_usuario(self, usuario):\n",
    "        \"\"\"\n",
    "        O método adicionar_usuario será responsável por adicionar os \n",
    "        vértices (i.e., usuários) à matriz de adjacência de forma genérica, também\n",
    "        em formato de dicionário vazio, inicialmente.\n",
    "        \"\"\"\n",
    "        self.matriz_adjacencia[usuario] = {}\n",
    "\n",
    "        \n",
    "    def adicionar_usuario_arquivo(self, arquivo_usuarios):\n",
    "        \"\"\"\n",
    "        Como no caso em tela temos um banco de dados pronto com a listagem do nome\n",
    "        e username de cada um dos usuários pré-criados, o segundo método fará a \n",
    "        adição dos vértices a partir de qualquer arquivo no formato 'csv' com o \n",
    "        mesmo padrão de dados.\n",
    "        \"\"\"\n",
    "        with open(arquivo_usuarios, newline = \"\") as csvfile:\n",
    "            lista_tuplas = [tuple(linha) for linha in csv.reader(csvfile)]\n",
    "            \n",
    "            for (_, usuario) in lista_tuplas:\n",
    "                self.matriz_adjacencia[usuario] = {}\n",
    "\n",
    "    \n",
    "    def conectar_usuarios(self, seguidor, seguido, peso):\n",
    "        \"\"\"    \n",
    "        Os métodos conectar_usuarios e criar_lista_conexoes serão responsáveis por \n",
    "        realizar as conexões entre os usuários a partir da leitura do arquivo \n",
    "        conexoes.csv, e juntá-las à matriz de adjacência.\n",
    "\n",
    "        Sabemos que se trata de um grafo ponderado, portanto não é necessário \n",
    "        atribuir '1' ao peso \"padrão\".\n",
    "\n",
    "        Ademais, trata-se de um grafo direcionado, não sendo necessário realizar\n",
    "        a inclusão do caminho \"destino -> origem\", apenas \"origem -> destino\".\n",
    "        \"\"\"\n",
    "        self.matriz_adjacencia[seguidor][seguido] = peso\n",
    "\n",
    "    \n",
    "    def criar_lista_conexoes(self, arquivo_conexoes):\n",
    "        with open (arquivo_conexoes, newline = \"\") as csvfile:\n",
    "            lista_conexoes = csv.reader(csvfile)\n",
    "            \n",
    "            for linha in lista_conexoes:\n",
    "                self.conectar_usuarios(linha[0], linha[1], linha[2])\n",
    "\n",
    "   \n",
    "    def verificar_adjacencia(self, seguidor, seguido):\n",
    "        \"\"\"\n",
    "        A função acima e a abaixo servem para verificar e, posteriormente, caso\n",
    "        necessário ou quisto, remover uma conexão da rede social (p.ex., se \n",
    "        detectado que um usuário deixou de seguir outro usuário). A função não\n",
    "        consta dos requerimentos mínimos do projeto, mas acreditamos ser uma boa\n",
    "        adição.\n",
    "        \"\"\"\n",
    "        return seguido in self.matriz_adjacencia[seguidor].keys()\n",
    "\n",
    "    \n",
    "    def remover_conexao(self, seguidor, seguido):\n",
    "        \"\"\"\n",
    "        Como o nome diz: remove a conexao entre usuarios\n",
    "        \"\"\"\n",
    "        if self.verificar_adjacencia(seguidor, seguido):\n",
    "            self.matriz_adjacencia[seguidor].pop[seguido]\n",
    "            return\n",
    "\n",
    "        \n",
    "    def _contar_seguidores(self, usuario_interessado):\n",
    "        \"\"\"\"\n",
    "        Método interno\n",
    "        \"\"\"\n",
    "        total_seguidores = 0\n",
    "        \n",
    "        for _, conexoes in self.matriz_adjacencia.items():\n",
    "            if usuario_interessado in conexoes.keys():\n",
    "                total_seguidores += 1\n",
    "        \n",
    "        return total_seguidores\n",
    "    \n",
    "    \n",
    "    def contar_seguidores(self, usuario_interessado):\n",
    "        \"\"\"\"\n",
    "        Método externo para contagem de usuarios\n",
    "        \"\"\"\n",
    "        seguidores = self._contar_seguidores(usuario_interessado)\n",
    "        return print(f\"O usuario {usuario_interessado} possui {seguidores} seguidores na Rede Social.\")\n",
    "\n",
    "        \n",
    "    def contar_seguidos(self, usuario_interessado):\n",
    "        \"\"\"\n",
    "        Ordenar a lista de \"stories\" a partir do peso das conexões, ou seja,\n",
    "        melhores amigos primeiro, seguidos de conexões comuns, ambos em ordem\n",
    "        alfabética:\n",
    "        \"\"\"\n",
    "        total_seguidos = len(self.matriz_adjacencia[usuario_interessado])\n",
    "        print(f\"O usuario {usuario_interessado} segue {total_seguidos} pessoas na Rede Social.\")\n",
    "\n",
    "        \n",
    "    def lista_stories(self, usuario_interessado):\n",
    "        \"\"\"\n",
    "        Esse método separa em duas listas de acordo com o peso da conexao, sendo\n",
    "        peso 2 adicionado a lista melhores amigos e peso 1 na lista amigos comuns\n",
    "        \"\"\"\n",
    "        lista_melhores_amigos = []\n",
    "        lista_amigos_comuns = []\n",
    "        \n",
    "        for conexao, peso in self.matriz_adjacencia[usuario_interessado].items():\n",
    "            if peso == \"2\":\n",
    "                lista_melhores_amigos.append(conexao)\n",
    "            else:\n",
    "                lista_amigos_comuns.append(conexao)\n",
    "       \n",
    "        lista_melhores_amigos = sorted(lista_melhores_amigos)\n",
    "        lista_amigos_comuns = sorted(lista_amigos_comuns)\n",
    "        \n",
    "        print(\"Stories | Melhores Amigos de: \" + usuario_interessado, *lista_melhores_amigos, sep = \" | \")\n",
    "        print(\"Stories | Amigos de: \" + usuario_interessado, *lista_amigos_comuns, sep = \" | \")\n",
    "\n",
    "\n",
    "    def top_influencers(self, top_k):\n",
    "        \"\"\"\n",
    "        Encontrar o Top 'k' influencers (as 'k' pessoas que têm mais seguidores\n",
    "        na Rede):\n",
    "        \"\"\"\n",
    "        top_k_influencers = {}\n",
    "        \n",
    "        for origem in self.matriz_adjacencia.keys():\n",
    "            numero_seguidores = self._contar_seguidores(origem)\n",
    "            top_k_influencers[origem] = numero_seguidores\n",
    "        lista_top_k = []\n",
    "        \n",
    "        for influencer in sorted(top_k_influencers, key = top_k_influencers.get, reverse = True):\n",
    "            lista_top_k.append(influencer)\n",
    "       \n",
    "        print(f\"Top {top_k} influenciadores da Rede Social: \")\n",
    "        print(*lista_top_k[0:top_k], sep = \"\\n\")\n",
    "\n",
    "\n",
    "    def distancia_conexao(self, usuario_interessado, usuario_alvo):\n",
    "        \"\"\"\n",
    "        Encontrar o caminho entre uma pessoa e outra na rede\n",
    "        \"\"\"\n",
    "        fila = [usuario_interessado]\n",
    "        visitados = []\n",
    "        predecessor = {usuario_interessado: None}\n",
    "        \n",
    "        while len (fila) > 0:\n",
    "            primeiro_elemento = fila[0]\n",
    "            fila = fila[1:]\n",
    "            visitados.append(primeiro_elemento)\n",
    "            \n",
    "            for adjacente in self.matriz_adjacencia[primeiro_elemento].keys():\n",
    "                if adjacente == usuario_alvo:\n",
    "                    pred = primeiro_elemento\n",
    "                    caminho = [usuario_alvo]\n",
    "                    \n",
    "                    while pred is not None:\n",
    "                        caminho.append(pred)\n",
    "                        pred = predecessor[pred]\n",
    "                    \n",
    "                    caminho.reverse()\n",
    "                    caminho_string = \" -> \".join(caminho)\n",
    "                    \n",
    "                    return print(f\"Distância entre {usuario_interessado} e {usuario_alvo} na Rede Social é de {(int(len(caminho)) - 2)} grau(s): \\n {caminho_string}\")\n",
    "            \n",
    "                if (adjacente not in fila) and (adjacente not in visitados):\n",
    "                    predecessor[adjacente] = primeiro_elemento\n",
    "                    fila.append(adjacente)\n",
    "                \n",
    "        return print(f\"Não foi possível encontrar um caminho entre {usuario_interessado} e {usuario_alvo} na Rede Social.\")"
   ]
  },
  {
   "cell_type": "code",
   "execution_count": null,
   "id": "8a919557",
   "metadata": {
    "ExecuteTime": {
     "end_time": "2021-09-29T23:04:22.027928Z",
     "start_time": "2021-09-29T23:04:22.013937Z"
    }
   },
   "outputs": [],
   "source": [
    "DLM_social = RedeSocial()\n",
    "DLM_social.adicionar_usuario_arquivo(\"usuarios.csv\")"
   ]
  },
  {
   "cell_type": "code",
   "execution_count": null,
   "id": "c03c3268",
   "metadata": {
    "ExecuteTime": {
     "end_time": "2021-09-29T23:04:22.768934Z",
     "start_time": "2021-09-29T23:04:22.750951Z"
    }
   },
   "outputs": [],
   "source": [
    "DLM_social.criar_lista_conexoes(\"conexoes.csv\")"
   ]
  },
  {
   "cell_type": "code",
   "execution_count": null,
   "id": "5bb364dd",
   "metadata": {
    "ExecuteTime": {
     "end_time": "2021-09-29T23:04:23.393048Z",
     "start_time": "2021-09-29T23:04:23.385053Z"
    }
   },
   "outputs": [],
   "source": [
    "DLM_social.contar_seguidores(\"isis3\")"
   ]
  },
  {
   "cell_type": "code",
   "execution_count": null,
   "id": "4ed1dc39",
   "metadata": {
    "ExecuteTime": {
     "end_time": "2021-09-29T23:04:26.056071Z",
     "start_time": "2021-09-29T23:04:26.050076Z"
    }
   },
   "outputs": [],
   "source": [
    "DLM_social.contar_seguidos(\"isis3\")"
   ]
  },
  {
   "cell_type": "code",
   "execution_count": null,
   "id": "ee72f5a8",
   "metadata": {
    "ExecuteTime": {
     "end_time": "2021-09-29T23:04:28.119057Z",
     "start_time": "2021-09-29T23:04:28.105066Z"
    }
   },
   "outputs": [],
   "source": [
    "DLM_social.lista_stories(\"isis3\")"
   ]
  },
  {
   "cell_type": "code",
   "execution_count": null,
   "id": "ea17b1cf",
   "metadata": {
    "ExecuteTime": {
     "end_time": "2021-09-29T23:04:28.867651Z",
     "start_time": "2021-09-29T23:04:28.851643Z"
    }
   },
   "outputs": [],
   "source": [
    "DLM_social.distancia_conexao(\"isis3\", \"helena42\")"
   ]
  },
  {
   "cell_type": "code",
   "execution_count": null,
   "id": "52efe300",
   "metadata": {
    "ExecuteTime": {
     "end_time": "2021-09-29T23:04:32.017458Z",
     "start_time": "2021-09-29T23:04:31.995469Z"
    }
   },
   "outputs": [],
   "source": [
    "DLM_social.top_influencers(5)"
   ]
  }
 ],
 "metadata": {
  "kernelspec": {
   "display_name": "Python 3",
   "language": "python",
   "name": "python3"
  },
  "language_info": {
   "codemirror_mode": {
    "name": "ipython",
    "version": 3
   },
   "file_extension": ".py",
   "mimetype": "text/x-python",
   "name": "python",
   "nbconvert_exporter": "python",
   "pygments_lexer": "ipython3",
   "version": "3.8.8"
  }
 },
 "nbformat": 4,
 "nbformat_minor": 5
}
